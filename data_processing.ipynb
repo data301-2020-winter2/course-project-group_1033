{
 "cells": [
  {
   "cell_type": "code",
   "execution_count": 15,
   "metadata": {},
   "outputs": [],
   "source": [
    "import pandas as pd \n",
    "import numpy as np \n",
    "\n",
    "def load_and_process(url_or_path_to_csv_file): \n",
    "    \n",
    "    \n",
    "    # method Chain 1 (load data + fix missing values + naming columns + fixing strings)\n",
    "\n",
    "    df = (pd.read_csv(\"../../data/raw/nomenclature.csv\",delimiter=\",\", header=15)\n",
    "      .dropna()\n",
    "      .rename(columns= { \"# TRANSLATORS: (Phoebe); Argonaut, founder and king of Pherae in Thessaly.\" : \"Planet Name\", \"Unnamed: 1\" : \"ID\", \"Unnamed: 3\" : \"Planetary Feature\", \"Unnamed: 2\" : \"FeatureName\",  \"Unnamed: 4\" : \"Latitude of Center of Planetary Feature\", \"Unnamed: 5\" : \"Longitude of Center of Planetary Feature\", \"Unnamed: 6\" : \"Size of Planetary Feature(km)\"})\n",
    "    .reset_index()\n",
    "\n",
    "\n",
    "     )\n",
    "\n",
    "\n",
    "    # method Chain 2 (String cleaning in the 'Name of Planetary Feature Column') \n",
    "\n",
    "    df2 = (df\n",
    "    .assign(FeatureName = lambda x: x['FeatureName'].str.replace('\"', \" \")\n",
    "    .str.strip(\"_\")\n",
    "    .str.lstrip('(')\n",
    "    .str.rstrip(')')\n",
    "    .str.strip(',')\n",
    "           ))\n",
    "\n",
    "\n",
    "    # method Chain 3 (Split the Name of Planetary Feature Column + reorder Columns + sortBy new FeatureType Column)\n",
    "     \n",
    "    df3 = (df2\n",
    "      .assign(FeatureType = lambda x: x['FeatureName'].str.split(\",\").str[1],\n",
    "              FeatureName = lambda x: x['FeatureName'].str.split(\",\").str[0])\n",
    "      .loc[:, ['Planet Name','ID','FeatureName','FeatureType', 'Planetary Feature', 'Latitude of Center of Planetary Feature','Longitude of Center of Planetary Feature','Size of Planetary Feature(km)']]\n",
    "      .sort_values('FeatureType', ascending = True )\n",
    "      .reset_index()\n",
    "\n",
    "       \n",
    "      )\n",
    "    \n",
    "    return df3\n",
    "\n",
    "\n",
    "\n",
    "\n",
    "\n"
   ]
  },
  {
   "cell_type": "code",
   "execution_count": null,
   "metadata": {},
   "outputs": [],
   "source": []
  },
  {
   "cell_type": "code",
   "execution_count": null,
   "metadata": {},
   "outputs": [],
   "source": []
  }
 ],
 "metadata": {
  "kernelspec": {
   "display_name": "Python 3",
   "language": "python",
   "name": "python3"
  },
  "language_info": {
   "codemirror_mode": {
    "name": "ipython",
    "version": 3
   },
   "file_extension": ".py",
   "mimetype": "text/x-python",
   "name": "python",
   "nbconvert_exporter": "python",
   "pygments_lexer": "ipython3",
   "version": "3.8.5"
  }
 },
 "nbformat": 4,
 "nbformat_minor": 4
}
