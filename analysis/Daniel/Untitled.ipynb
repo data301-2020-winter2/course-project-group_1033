{
 "cells": [
  {
   "cell_type": "code",
   "execution_count": 5,
   "id": "heavy-award",
   "metadata": {},
   "outputs": [
    {
     "name": "stdout",
     "output_type": "stream",
     "text": [
      "Series([], Name: Name, dtype: object)\n"
     ]
    }
   ],
   "source": [
    "import pandas as pd\n",
    "\n",
    "df = pd.read_csv(\"data/pokemon.csv\")\n",
    "df.head()\n",
    "### Your solution here\n",
    "ledg = df.loc[df[\"Legendary\"] == \"True\",\"Name\"]\n",
    "print(ledg)"
   ]
  },
  {
   "cell_type": "code",
   "execution_count": null,
   "id": "united-booth",
   "metadata": {},
   "outputs": [],
   "source": []
  },
  {
   "cell_type": "code",
   "execution_count": null,
   "id": "opposite-section",
   "metadata": {},
   "outputs": [],
   "source": []
  }
 ],
 "metadata": {
  "kernelspec": {
   "display_name": "Python 3",
   "language": "python",
   "name": "python3"
  },
  "language_info": {
   "codemirror_mode": {
    "name": "ipython",
    "version": 3
   },
   "file_extension": ".py",
   "mimetype": "text/x-python",
   "name": "python",
   "nbconvert_exporter": "python",
   "pygments_lexer": "ipython3",
   "version": "3.8.5"
  }
 },
 "nbformat": 4,
 "nbformat_minor": 5
}
