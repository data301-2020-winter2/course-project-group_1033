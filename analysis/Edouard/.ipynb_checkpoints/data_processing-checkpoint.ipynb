{
 "cells": [
  {
   "cell_type": "code",
   "execution_count": 10,
   "metadata": {},
   "outputs": [
    {
     "data": {
      "text/plain": [
       "<bound method NDFrame.head of                                                        # Unnamed: 1  \\\n",
       "0                 # Nomenclature for Solar system bodies        NaN   \n",
       "1                                                      #        NaN   \n",
       "2      # Nomenclature data was obtained from the web ...        NaN   \n",
       "3                                                      #        NaN   \n",
       "4      # One rule per line. Each rule contains seven ...        NaN   \n",
       "...                                                  ...        ...   \n",
       "31356                                              Pluto      15925   \n",
       "31357  # TRANSLATORS: (Pluto); Francesco; Italian ast...        NaN   \n",
       "31358                                              Pluto      15926   \n",
       "31359  # TRANSLATORS: (Mercury); American singer and ...        NaN   \n",
       "31360                                            Mercury      15937   \n",
       "\n",
       "                   Unnamed: 2 Unnamed: 3  Unnamed: 4  Unnamed: 5  Unnamed: 6  \n",
       "0                         NaN        NaN         NaN         NaN         NaN  \n",
       "1                         NaN        NaN         NaN         NaN         NaN  \n",
       "2                         NaN        NaN         NaN         NaN         NaN  \n",
       "3                         NaN        NaN         NaN         NaN         NaN  \n",
       "4                         NaN        NaN         NaN         NaN         NaN  \n",
       "...                       ...        ...         ...         ...         ...  \n",
       "31356  _(\"Pulfrich\",\"crater\")         AA       77.80      135.99        37.7  \n",
       "31357                     NaN        NaN         NaN         NaN         NaN  \n",
       "31358     _(\"Zagar\",\"crater\")         AA       -5.74      155.23        93.0  \n",
       "31359                     NaN        NaN         NaN         NaN         NaN  \n",
       "31360     _(\"Berry\",\"crater\")         AA       70.57      247.27        25.0  \n",
       "\n",
       "[31361 rows x 7 columns]>"
      ]
     },
     "execution_count": 10,
     "metadata": {},
     "output_type": "execute_result"
    }
   ],
   "source": [
    "import pandas as pd \n",
    "import numpy as np \n",
    "\n",
    "data = pd.read_csv(\"../../data/raw/nomenclature.csv\")\n",
    "\n",
    "data.head\n",
    "\n"
   ]
  },
  {
   "cell_type": "code",
   "execution_count": 23,
   "metadata": {},
   "outputs": [
    {
     "data": {
      "text/html": [
       "<div>\n",
       "<style scoped>\n",
       "    .dataframe tbody tr th:only-of-type {\n",
       "        vertical-align: middle;\n",
       "    }\n",
       "\n",
       "    .dataframe tbody tr th {\n",
       "        vertical-align: top;\n",
       "    }\n",
       "\n",
       "    .dataframe thead th {\n",
       "        text-align: right;\n",
       "    }\n",
       "</style>\n",
       "<table border=\"1\" class=\"dataframe\">\n",
       "  <thead>\n",
       "    <tr style=\"text-align: right;\">\n",
       "      <th></th>\n",
       "      <th>#</th>\n",
       "      <th>Unnamed: 1</th>\n",
       "      <th>Unnamed: 2</th>\n",
       "      <th>Unnamed: 3</th>\n",
       "      <th>Unnamed: 4</th>\n",
       "      <th>Unnamed: 5</th>\n",
       "      <th>Unnamed: 6</th>\n",
       "    </tr>\n",
       "  </thead>\n",
       "  <tbody>\n",
       "    <tr>\n",
       "      <th>15</th>\n",
       "      <td>Phoebe</td>\n",
       "      <td>55</td>\n",
       "      <td>_(\"Admetus\",\"crater\")</td>\n",
       "      <td>AA</td>\n",
       "      <td>11.4</td>\n",
       "      <td>320.9</td>\n",
       "      <td>58.0</td>\n",
       "    </tr>\n",
       "    <tr>\n",
       "      <th>17</th>\n",
       "      <td>Phoebe</td>\n",
       "      <td>241</td>\n",
       "      <td>_(\"Amphion\",\"crater\")</td>\n",
       "      <td>AA</td>\n",
       "      <td>-27.0</td>\n",
       "      <td>358.2</td>\n",
       "      <td>18.0</td>\n",
       "    </tr>\n",
       "    <tr>\n",
       "      <th>19</th>\n",
       "      <td>Phoebe</td>\n",
       "      <td>28</td>\n",
       "      <td>_(\"Acastus\",\"crater\")</td>\n",
       "      <td>AA</td>\n",
       "      <td>9.6</td>\n",
       "      <td>211.5</td>\n",
       "      <td>34.0</td>\n",
       "    </tr>\n",
       "    <tr>\n",
       "      <th>21</th>\n",
       "      <td>Phoebe</td>\n",
       "      <td>4167</td>\n",
       "      <td>_(\"Nauplius\",\"crater\")</td>\n",
       "      <td>AA</td>\n",
       "      <td>31.5</td>\n",
       "      <td>118.5</td>\n",
       "      <td>24.0</td>\n",
       "    </tr>\n",
       "    <tr>\n",
       "      <th>23</th>\n",
       "      <td>Phoebe</td>\n",
       "      <td>933</td>\n",
       "      <td>_(\"Butes\",\"crater\")</td>\n",
       "      <td>AA</td>\n",
       "      <td>-49.6</td>\n",
       "      <td>67.5</td>\n",
       "      <td>29.0</td>\n",
       "    </tr>\n",
       "  </tbody>\n",
       "</table>\n",
       "</div>"
      ],
      "text/plain": [
       "         # Unnamed: 1              Unnamed: 2 Unnamed: 3  Unnamed: 4  \\\n",
       "15  Phoebe         55   _(\"Admetus\",\"crater\")         AA        11.4   \n",
       "17  Phoebe        241   _(\"Amphion\",\"crater\")         AA       -27.0   \n",
       "19  Phoebe         28   _(\"Acastus\",\"crater\")         AA         9.6   \n",
       "21  Phoebe       4167  _(\"Nauplius\",\"crater\")         AA        31.5   \n",
       "23  Phoebe        933     _(\"Butes\",\"crater\")         AA       -49.6   \n",
       "\n",
       "    Unnamed: 5  Unnamed: 6  \n",
       "15       320.9        58.0  \n",
       "17       358.2        18.0  \n",
       "19       211.5        34.0  \n",
       "21       118.5        24.0  \n",
       "23        67.5        29.0  "
      ]
     },
     "execution_count": 23,
     "metadata": {},
     "output_type": "execute_result"
    }
   ],
   "source": [
    "\n",
    "newData = data.dropna()\n",
    "\n",
    "\n",
    "newData.head()\n",
    "\n"
   ]
  },
  {
   "cell_type": "code",
   "execution_count": null,
   "metadata": {},
   "outputs": [],
   "source": []
  }
 ],
 "metadata": {
  "kernelspec": {
   "display_name": "Python 3",
   "language": "python",
   "name": "python3"
  },
  "language_info": {
   "codemirror_mode": {
    "name": "ipython",
    "version": 3
   },
   "file_extension": ".py",
   "mimetype": "text/x-python",
   "name": "python",
   "nbconvert_exporter": "python",
   "pygments_lexer": "ipython3",
   "version": "3.8.5"
  }
 },
 "nbformat": 4,
 "nbformat_minor": 4
}
