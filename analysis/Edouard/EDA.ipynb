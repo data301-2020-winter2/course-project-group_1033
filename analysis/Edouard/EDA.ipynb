{
 "cells": [
  {
   "cell_type": "code",
   "execution_count": null,
   "metadata": {},
   "outputs": [],
   "source": [
    "#sys.path.append(\"..\")\n",
    "from scripts import project_functions # This is called a relative import\n",
    "import pandas as pd\n",
    "import numpy as np\n",
    "import seaborn as sns\n",
    "import matplotlib.pyplot as plt\n",
    "\n",
    "df = project_functions.load_and_process(\"../../data/raw/nomenclature.csv\")\n",
    "\n",
    "\n",
    "\n",
    "\n",
    "\n"
   ]
  },
  {
   "cell_type": "code",
   "execution_count": null,
   "metadata": {},
   "outputs": [],
   "source": [
    "df.describe(include =[object]).T"
   ]
  },
  {
   "cell_type": "code",
   "execution_count": null,
   "metadata": {},
   "outputs": [],
   "source": [
    "df.describe(exclude =[object]).T"
   ]
  },
  {
   "cell_type": "code",
   "execution_count": null,
   "metadata": {},
   "outputs": [],
   "source": []
  },
  {
   "cell_type": "markdown",
   "metadata": {},
   "source": [
    "## Top 8 Features on the Moon "
   ]
  },
  {
   "cell_type": "code",
   "execution_count": null,
   "metadata": {},
   "outputs": [],
   "source": [
    "moondata = df[df['Planet Name']=='Moon']\n",
    "\n",
    "\n",
    "sns.countplot(data=moondata, y='FeatureType',order =moondata['FeatureType'].value_counts().index[:5])\n",
    "\n"
   ]
  },
  {
   "cell_type": "markdown",
   "metadata": {},
   "source": [
    "This plot displays the top 5 feature types on the moon. This data plot shows how the moon mostly consists of satellite features and craters. "
   ]
  },
  {
   "cell_type": "markdown",
   "metadata": {},
   "source": [
    "## Top 5 Features on Venus "
   ]
  },
  {
   "cell_type": "code",
   "execution_count": null,
   "metadata": {},
   "outputs": [],
   "source": [
    "venusdata = df[df['Planet Name'] == 'Venus']\n",
    "\n",
    "venusdata.reset_index()\n",
    "\n",
    "sns.countplot(data = venusdata , y='FeatureType', order=venusdata['FeatureType'].value_counts().index[:8])"
   ]
  },
  {
   "cell_type": "markdown",
   "metadata": {},
   "source": [
    "## Venus Planet Feature Map"
   ]
  },
  {
   "cell_type": "code",
   "execution_count": null,
   "metadata": {},
   "outputs": [],
   "source": [
    "venus_features = sns.scatterplot(data = venusdata, y='Latitude of Center of Planetary Feature',x='Longitude of Center of Planetary Feature',hue='FeatureType')\n",
    "\n",
    "plt.xlabel(\"Longitude\", size=20)\n",
    "plt.ylabel(\"Latitude\", size=20)\n",
    "\n",
    "venus_features.legend(loc='center left', bbox_to_anchor=(1.00, 0.5), ncol=1)\n",
    "# map of geo locations of all planetary features on the venus"
   ]
  },
  {
   "cell_type": "markdown",
   "metadata": {},
   "source": [
    "## Moon Feature Map"
   ]
  },
  {
   "cell_type": "code",
   "execution_count": null,
   "metadata": {},
   "outputs": [],
   "source": [
    "moon_features = sns.scatterplot(data = moondata, y='Latitude of Center of Planetary Feature',x='Longitude of Center of Planetary Feature', hue='FeatureType')\n",
    "moon_features.set(xlim=(0, 360))\n",
    "moon_features.legend(loc='center left', bbox_to_anchor=(1.00, 0.5), ncol=1)\n",
    "plt.xlabel(\"Longitude\", size=20)\n",
    "plt.ylabel(\"Latitude\", size=20)\n",
    "\n",
    "# map of geo locations of all planetary features on the moon"
   ]
  },
  {
   "cell_type": "code",
   "execution_count": null,
   "metadata": {},
   "outputs": [],
   "source": []
  },
  {
   "cell_type": "markdown",
   "metadata": {},
   "source": [
    "# **Moon Features and Size Map**\n",
    "\n",
    "\n",
    "This section will focus on soley moon data points\n"
   ]
  },
  {
   "cell_type": "code",
   "execution_count": null,
   "metadata": {},
   "outputs": [],
   "source": [
    "#cmap = sns.cubehelix_palette(rot=-.2, as_cmap=True)\n",
    "\n",
    "#c = sns.color_palette(\"flare\", as_cmap=True)\n",
    "\n",
    "\n",
    "moon_feat_size_map = sns.relplot(\n",
    "    data=moondata,\n",
    "    y=\"Latitude of Center of Planetary Feature\", x=\"Longitude of Center of Planetary Feature\",\n",
    "    hue=\"FeatureType\", size=\"Size of Planetary Feature(km)\",\n",
    "    sizes=(1, 200))\n",
    "moon_feat_size_map.set(title='Moon Features and Size Map')\n",
    "moon_feat_size_map.set(xlim=(0, 360))\n",
    "moon_feat_size_map.set_xlabels(\"Longitude\", size=20)\n",
    "moon_feat_size_map.set_ylabels(\"Latitude\", size=20)\n",
    "moon_feat_size_map.despine(left=True, bottom=True)\n"
   ]
  },
  {
   "cell_type": "markdown",
   "metadata": {},
   "source": [
    "The visualization illustrates the many types of features and their sizes located on the moon. Each feature is placed based on their Longitude and Latitude location. Every point on the graph is sized based on the planet feature it represents. In order to understand the types of features as an avg. viewer you would need to translate the greek names of features to their english meanings. "
   ]
  },
  {
   "cell_type": "markdown",
   "metadata": {},
   "source": [
    "# **Venus Features and Size Map**"
   ]
  },
  {
   "cell_type": "code",
   "execution_count": null,
   "metadata": {},
   "outputs": [],
   "source": [
    "venus_feat_size_map = sns.relplot(\n",
    "    data=venusdata,\n",
    "    y=\"Latitude of Center of Planetary Feature\", x=\"Longitude of Center of Planetary Feature\",\n",
    "    hue=\"FeatureType\", size=\"Size of Planetary Feature(km)\",\n",
    "    sizes=(1, 200))\n",
    "venus_feat_size_map.set(xlim=(0, 360))\n",
    "venus_feat_size_map.ax.xaxis.grid(True, \"minor\", linewidth=.25)\n",
    "venus_feat_size_map.ax.yaxis.grid(True, \"minor\", linewidth=.25)\n",
    "venus_feat_size_map.set_xlabels(\"Longitude\", size=20)\n",
    "venus_feat_size_map.set_ylabels(\"Latitude\", size=20)\n",
    "venus_feat_size_map.despine(left=True, bottom=True)"
   ]
  },
  {
   "cell_type": "markdown",
   "metadata": {},
   "source": [
    "This visualization displays to the location and size of features on venus. Similar to the moon plot from above. In comparison to the moon venus has much fewer satellite features in its surface. This visualization shows that venus has an abundance of craters and mountains(mons). A feature more prevelent on the surface are 'Regio' which are large areas on the surface that color distinctions from adjacent areas. Venus has many of these, indicating a colorful surface when compared to other bodies such as the moon."
   ]
  },
  {
   "cell_type": "markdown",
   "metadata": {},
   "source": [
    "# Mars Features and Size Map"
   ]
  },
  {
   "cell_type": "code",
   "execution_count": null,
   "metadata": {},
   "outputs": [],
   "source": [
    "marsdata = df[df['Planet Name']== 'Mars']\n",
    "\n",
    "mars_feat_size_map = sns.relplot(\n",
    "    data=marsdata,\n",
    "    y=\"Latitude of Center of Planetary Feature\", x=\"Longitude of Center of Planetary Feature\",\n",
    "    hue=\"FeatureType\", size=\"Size of Planetary Feature(km)\",\n",
    "    sizes=(1, 200))\n",
    "mars_feat_size_map.set(xlim=(0, 360))\n",
    "mars_feat_size_map.ax.xaxis.grid(True, \"minor\", linewidth=.25)\n",
    "mars_feat_size_map.ax.yaxis.grid(True, \"minor\", linewidth=.25)\n",
    "mars_feat_size_map.set_xlabels(\"Longitude\", size=20)\n",
    "mars_feat_size_map.set_ylabels(\"Latitude\", size=20)\n",
    "mars_feat_size_map.despine(left=True, bottom=True)"
   ]
  },
  {
   "cell_type": "markdown",
   "metadata": {},
   "source": [
    "This is the surface graph of mars. This visual gives a good indication to the many large land masses present on mars. This feature is called 'terra' which just means large land feature. If you look at region [300,0] there are some clustors of crators something unlike the other planet bodies. "
   ]
  },
  {
   "cell_type": "code",
   "execution_count": null,
   "metadata": {},
   "outputs": [],
   "source": []
  }
 ],
 "metadata": {
  "kernelspec": {
   "display_name": "Python 3",
   "language": "python",
   "name": "python3"
  },
  "language_info": {
   "codemirror_mode": {
    "name": "ipython",
    "version": 3
   },
   "file_extension": ".py",
   "mimetype": "text/x-python",
   "name": "python",
   "nbconvert_exporter": "python",
   "pygments_lexer": "ipython3",
   "version": "3.8.5"
  }
 },
 "nbformat": 4,
 "nbformat_minor": 4
}
