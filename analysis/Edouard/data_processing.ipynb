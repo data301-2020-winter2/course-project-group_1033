{
 "cells": [
  {
   "cell_type": "code",
   "execution_count": 3,
   "metadata": {},
   "outputs": [],
   "source": [
    "import pandas as pd \n",
    "import numpy as np \n",
    "\n",
    "\n",
    "# method Chain 1 (load data + fix missing values + naming columns)\n",
    "\n",
    "df = ( pd.read_csv(\"../../data/raw/nomenclature.csv\",delimiter=\",\", header=15)\n",
    "      .dropna()\n",
    "      .reset_index()\n",
    "      .rename(columns={ \"# TRANSLATORS: (Phoebe); Argonaut, founder and king of Pherae in Thessaly.\" : \"Planet Name\", \"Unnamed: 1\" : \"ID\", \"Unnamed: 3\" : \"Planetary Feature\", \"Unnamed: 2\" : \"Name of Planetary Feature\",  \"Unnamed: 4\" : \"Latitude of Center of Planetary Feature\", \"Unnamed: 5\" : \"Longitude of Center of Planetary Feature\", \"Unnamed: 6\" : \"Size of Planetary Feature (km)\"})\n",
    "     )\n",
    "# deal with the Planetary feature column \n",
    "\n",
    "\n"
   ]
  },
  {
   "cell_type": "code",
   "execution_count": null,
   "metadata": {},
   "outputs": [],
   "source": []
  }
 ],
 "metadata": {
  "kernelspec": {
   "display_name": "Python 3",
   "language": "python",
   "name": "python3"
  },
  "language_info": {
   "codemirror_mode": {
    "name": "ipython",
    "version": 3
   },
   "file_extension": ".py",
   "mimetype": "text/x-python",
   "name": "python",
   "nbconvert_exporter": "python",
   "pygments_lexer": "ipython3",
   "version": "3.8.5"
  }
 },
 "nbformat": 4,
 "nbformat_minor": 4
}
