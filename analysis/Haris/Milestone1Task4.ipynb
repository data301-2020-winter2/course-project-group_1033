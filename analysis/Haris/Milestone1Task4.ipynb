{
 "cells": [
  {
   "cell_type": "code",
   "execution_count": 14,
   "metadata": {},
   "outputs": [
    {
     "output_type": "execute_result",
     "data": {
      "text/plain": [
       "                                                   0      1  \\\n",
       "0  # TRANSLATORS: (Phoebe); Argonaut, founder and...    NaN   \n",
       "1                                             Phoebe   55.0   \n",
       "2  # TRANSLATORS: (Phoebe); Argonaut, son of Hype...    NaN   \n",
       "3                                             Phoebe  241.0   \n",
       "4  # TRANSLATORS: (Phoebe); Argonaut, son of the ...    NaN   \n",
       "\n",
       "                       2    3     4      5     6  \n",
       "0                    NaN  NaN   NaN    NaN   NaN  \n",
       "1  _(\"Admetus\",\"crater\")   AA  11.4  320.9  58.0  \n",
       "2                    NaN  NaN   NaN    NaN   NaN  \n",
       "3  _(\"Amphion\",\"crater\")   AA -27.0  358.2  18.0  \n",
       "4                    NaN  NaN   NaN    NaN   NaN  "
      ],
      "text/html": "<div>\n<style scoped>\n    .dataframe tbody tr th:only-of-type {\n        vertical-align: middle;\n    }\n\n    .dataframe tbody tr th {\n        vertical-align: top;\n    }\n\n    .dataframe thead th {\n        text-align: right;\n    }\n</style>\n<table border=\"1\" class=\"dataframe\">\n  <thead>\n    <tr style=\"text-align: right;\">\n      <th></th>\n      <th>0</th>\n      <th>1</th>\n      <th>2</th>\n      <th>3</th>\n      <th>4</th>\n      <th>5</th>\n      <th>6</th>\n    </tr>\n  </thead>\n  <tbody>\n    <tr>\n      <td>0</td>\n      <td># TRANSLATORS: (Phoebe); Argonaut, founder and...</td>\n      <td>NaN</td>\n      <td>NaN</td>\n      <td>NaN</td>\n      <td>NaN</td>\n      <td>NaN</td>\n      <td>NaN</td>\n    </tr>\n    <tr>\n      <td>1</td>\n      <td>Phoebe</td>\n      <td>55.0</td>\n      <td>_(\"Admetus\",\"crater\")</td>\n      <td>AA</td>\n      <td>11.4</td>\n      <td>320.9</td>\n      <td>58.0</td>\n    </tr>\n    <tr>\n      <td>2</td>\n      <td># TRANSLATORS: (Phoebe); Argonaut, son of Hype...</td>\n      <td>NaN</td>\n      <td>NaN</td>\n      <td>NaN</td>\n      <td>NaN</td>\n      <td>NaN</td>\n      <td>NaN</td>\n    </tr>\n    <tr>\n      <td>3</td>\n      <td>Phoebe</td>\n      <td>241.0</td>\n      <td>_(\"Amphion\",\"crater\")</td>\n      <td>AA</td>\n      <td>-27.0</td>\n      <td>358.2</td>\n      <td>18.0</td>\n    </tr>\n    <tr>\n      <td>4</td>\n      <td># TRANSLATORS: (Phoebe); Argonaut, son of the ...</td>\n      <td>NaN</td>\n      <td>NaN</td>\n      <td>NaN</td>\n      <td>NaN</td>\n      <td>NaN</td>\n      <td>NaN</td>\n    </tr>\n  </tbody>\n</table>\n</div>"
     },
     "metadata": {},
     "execution_count": 14
    }
   ],
   "source": [
    "import pandas as pd\n",
    "df = pd.read_csv('../../data/raw/nomenclature.csv', header=None,skiprows=15)\n",
    "df.head()"
   ]
  }
 ],
 "metadata": {
  "kernelspec": {
   "display_name": "Python 3",
   "language": "python",
   "name": "python3"
  },
  "language_info": {
   "codemirror_mode": {
    "name": "ipython",
    "version": 3
   },
   "file_extension": ".py",
   "mimetype": "text/x-python",
   "name": "python",
   "nbconvert_exporter": "python",
   "pygments_lexer": "ipython3",
   "version": "3.7.4-final"
  }
 },
 "nbformat": 4,
 "nbformat_minor": 4
}